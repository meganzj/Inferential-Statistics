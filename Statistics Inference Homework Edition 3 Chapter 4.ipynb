{
 "cells": [
  {
   "cell_type": "markdown",
   "id": "d4461f37",
   "metadata": {},
   "source": [
    "Hypothesis tests: 4.17, 4.19, 4.23, 4.25, 4.27"
   ]
  },
  {
   "cell_type": "markdown",
   "id": "7822504e",
   "metadata": {},
   "source": [
    "**4.17 Identify hypotheses, Part I.** Write the null and alternative hypotheses in words and then symbols for each of the following situations.  \n",
    "\n",
    "(a) New York is known as “the city that never sleeps”. A random sample of 25 New Yorkers were asked how much sleep they get per night. Do these data provide convincing evidence that New Yorkers on average sleep less than 8 hours a night?  \n",
    "**Ans:**  \n",
    "__plain English__  \n",
    "null hypothesis: New Yorkers on average sleep 8 hours per night.  \n",
    "alterhative hypothesis: New Yorkers on average sleep less than 8 hours per night.  \n",
    "__Symbols__. \n",
    "$$H_0: \\mu = 8$$  \n",
    "$$H_A: \\mu < 8 $$ \n",
    "\n",
    "a sample of 25 New Yorkers would probably indicate independent sample (sample size is less than 10% population). It also indicated it was a random sample. It is unclear if the sleep duration of New Yorkers follow normal distribution, but likely it could be. One way to check is to plot a histgram of the 25 sampled New Yorker to see if it is bell shape and symemtric. if so, then a size of 25 would be likely sufficient for CLT, therefore, we can assume normal distribution of the sampling distribution and use it to evaluate hypothesis test and construct confidence interval.  \n",
    "\n",
    "(b) Employers at a firm are worried about the effect of March Madness, a basketball championship held each spring in the US, on employee productivity. They estimate that on a regular business day employees spend on average 15 minutes of company time checking personal email, making personal phone calls, etc. They also collect data on how much company time employees spend on such non- business activities during March Madness. They want to determine if these data provide convincing evidence that employee productivity decreases during March Madness.  \n",
    "**Ans:**  \n",
    "__plain English__  \n",
    "null hypothesis: employee productivity does NOT decrease during March Madness.   \n",
    "alterhative hypothesis: employee productivity decreases during March Madness.   \n",
    "__Symbols__. \n",
    "$$H_0: \\mu = 15$$  \n",
    "$$H_A: \\mu > 15 $$ \n"
   ]
  },
  {
   "cell_type": "markdown",
   "id": "84ee0994",
   "metadata": {},
   "source": [
    "**4.19 Online communication.**. \n",
    "A study suggests that the average college student spends 10 hours per week communicating with others online. You believe that this is an underestimate and decide to collect your own sample for a hypothesis test. You randomly sample 60 students from your dorm and find that on average they spent 13.5 hours a week communicating with others online. A friend of yours, who offers to help you with the hypothesis test, comes up with the following set of hypotheses. Indicate any errors you see.\n",
    "$$H_0 :\\bar{x} < 10\\,hours$$\n",
    "$$H_A : \\bar {x} > 13.5\\,hours$$  \n",
    "**Ans:**. \n",
    "$$H_0 :\\bar{x} = 10\\,hours$$  <span style=\"color:red\">$$H_0 :\\mu = 10\\,hours$$</span>\n",
    "$$H_A : \\bar {x} > 10\\,hours$$  <span style=\"color:red\">$$H_A :\\mu > 10\\,hours$$</span>"
   ]
  },
  {
   "cell_type": "markdown",
   "id": "51150251",
   "metadata": {},
   "source": [
    "**4.23 Nutrition labels.** The nutrition label on a bag of potato chips says that a one ounce (28 gram) serving of potato chips has 130 calories and contains ten grams of fat, with three grams of saturated fat. A random sample of 35 bags yielded a sample mean of 134 calories with a standard deviation of 17 calories. Is there evidence that the nutrition label does not provide an accurate measure of calories in the bags of potato chips? We have verified the independence, sample size, and skew conditions are satisfied.  \n",
    "**Ans:**  \n",
    "Assume significance level $\\alpha = 0.05$\n",
    "null hypothesis: the nutrition label provides an accurate measure of calories in the bags of potato chips. ($H_0: \\mu = 130$).   \n",
    "alternative hypothesis: the nutrition label does not provide an accurate measure of calories in the bags of potato chips. ($H_A: \\mu \\ne 130$).   \n",
    "\n",
    "Given independence, sample size, and skew conditions are all satisfied, we can assume the sampling distribution of sample mean of size 35 follows normal distribution. And with independence sample, we can use $Standard\\,Error = \\frac{s}{\\sqrt{n}}$  \n",
    "$\\bar{x} = 134, s = 17, n = 35, SE = \\frac{17}{\\sqrt{35}} \\approx 2.8735$   \n",
    "\n",
    "$Z-score = \\frac{\\bar{x}-\\mu}{SE}=\\frac{134-130}{2.8735}\\approx 1.3920$   \n",
    "\n",
    "$p-value = 2\\times0.081958 \\approx0.1639$  \n",
    "\n",
    "Since p-value is greater than the significance level, we fail to reject null hypothesis. Our evidence is not strong enough to show the label is inaccurate about the calories measure in the bags of potato chips.  "
   ]
  },
  {
   "cell_type": "code",
   "execution_count": 6,
   "id": "c859a031",
   "metadata": {},
   "outputs": [
    {
     "name": "stdout",
     "output_type": "stream",
     "text": [
      "[2.8735244660769563, 1.3920187724940274]\n",
      "0.16391671338056546\n"
     ]
    }
   ],
   "source": [
    "import numpy as np\n",
    "import scipy\n",
    "se = 17/np.sqrt(35)\n",
    "z_score = (134-130)/se\n",
    "print([se,z_score])\n",
    "(1 - scipy.stats.norm.cdf(z_score))\n",
    "p_value = 2 * (1 - scipy.stats.norm.cdf(z_score))\n",
    "print(p_value)"
   ]
  },
  {
   "cell_type": "markdown",
   "id": "b81ba6ca",
   "metadata": {},
   "source": [
    "**4.25 Waiting at an ER, Part III.** The hospital administrator mentioned in Exercise 4.13 randomly selected 64 patients and measured the time (in minutes) between when they checked in to the ER and the time they were first seen by a doctor. The average time is 137.5 minutes and the standard deviation is 39 minutes. She is getting grief from her supervisor on the basis that the wait times in the ER has increased greatly from last year’s average of 127 minutes. However, she claims that the increase is probably just due to chance.  \n",
    "\n",
    "(a) Are conditions for inference met? Note any assumptions you must make to proceed.  \n",
    "**Ans:** 64 patients are most likely less than 10% of population and with randomly selection, independece condition is likely met. Given the sample size is relatively large and I would also assume the wait time is probably slightly right skew, so I would conclude that the sampling distribution of sample mean of size 64 is approximately normal.  \n",
    "\n",
    "(b) Using a significance level of α = 0.05, is the change in wait times statistically significant? Use a two-sided test since it seems the supervisor had to inspect the data before she suggested an increase occurred.  \n",
    "**Ans:**   \n",
    "$H_0: \\mu = 127$  \n",
    "$H_A: \\mu \\ne 127$   \n",
    "known: $\\alpha = 0.05$, $\\bar{x} = 137.5$, $s = 39$,$n=64$,$\\mu=127$  \n",
    "\n",
    "$SE = \\frac{s}{\\sqrt{n}} = \\frac{39}{\\sqrt{64}} \\approx 4.875$   \n",
    "\n",
    "$Z-score = \\frac{\\bar{x}-\\mu}{SE}=\\frac{137.5-127}{4.875}\\approx 2.1538$   \n",
    "\n",
    "$p-value = 2\\times0.0156 \\approx0.0313$  \n",
    "\n",
    "p-value is smaller than significance level, indicating strong evidence against null hypothesis in favor of alternative hypothesis. \n",
    "\n",
    "(c) Would the conclusion of the hypothesis test change if the significance level was changed to\n",
    "α = 0.01?  \n",
    "**Ans:** Yes, the answer would be changed.  If $\\alpha=0.01$, then the evidence is not strong enough to reject the null hypothesis."
   ]
  },
  {
   "cell_type": "code",
   "execution_count": 10,
   "id": "894d9fb4",
   "metadata": {},
   "outputs": [
    {
     "name": "stdout",
     "output_type": "stream",
     "text": [
      "[4.875, 2.1538461538461537]\n",
      "0.015626119428469365\n",
      "0.03125223885693873\n"
     ]
    }
   ],
   "source": [
    "import numpy as np\n",
    "import scipy\n",
    "se = 39/np.sqrt(64)\n",
    "z_score = (137.5-127)/se\n",
    "print([se,z_score])\n",
    "print((1 - scipy.stats.norm.cdf(z_score)))\n",
    "p_value = 2 * (1 - scipy.stats.norm.cdf(z_score))\n",
    "print(p_value)"
   ]
  },
  {
   "cell_type": "markdown",
   "id": "4d147929",
   "metadata": {},
   "source": [
    "4.27 Working backwards, one-sided. You are given the following hypotheses: $H_0 :μ=30, H_A :μ>30$\n",
    "We know that the sample standard deviation is 10 and the sample size is 70. For what sample mean would the p-value be equal to 0.05? Assume that all conditions necessary for inference are satisfied.\n",
    "**Ans:**. \n",
    "$Z-critical = 1.65 = \\frac{\\bar{x}-\\mu}{SE} = \\frac{\\bar{x}-30}{10/\\sqrt{70}}$\n",
    "$\\implies \\bar{x} = \\mu + z-critical * SE = 31.9721$"
   ]
  },
  {
   "cell_type": "code",
   "execution_count": 13,
   "id": "cb7aff35",
   "metadata": {},
   "outputs": [
    {
     "name": "stdout",
     "output_type": "stream",
     "text": [
      "31.972127205401748\n"
     ]
    }
   ],
   "source": [
    "import numpy as np\n",
    "import scipy\n",
    "#get the critical value associated with 𝛼=0.05\n",
    "z_critical = -1 * scipy.stats.norm.ppf(0.05)\n",
    "se = 10/np.sqrt(70)\n",
    "mu = 30\n",
    "x_bar = 1.65*se + mu\n",
    "print(x_bar)"
   ]
  },
  {
   "cell_type": "markdown",
   "id": "d6019094",
   "metadata": {},
   "source": [
    "Inference for other estimators: 4.43, 4.45"
   ]
  },
  {
   "cell_type": "markdown",
   "id": "6cf1f1d5",
   "metadata": {},
   "source": [
    "**4.43 Spam mail counts.** The 2004 National Technology Readiness Survey sponsored by the Smith School of Business at the University of Maryland surveyed 418 randomly sampled Americans, asking them how many spam emails they receive per day. The survey was repeated on a new random sample of 499 Americans in 2009.  \n",
    "\n",
    "(a) What are the hypotheses for evaluating if the average spam emails per day has changed from 2004 to 2009.  \n",
    "**Ans:**  \n",
    "$$H_0: \\mu_{2009} - \\mu_{2004} = 0$$  \n",
    "$$H_A: \\mu_{2009} - \\mu_{2004} \\ne 0$$  \n",
    "\n",
    "(b) In 2004 the mean was 18.5 spam emails per day, and in 2009 this value was 14.9 emails per day. What is the point estimate for the difference between the two population means?  \n",
    "**Ans:** $\\mu_{diff} = 14.9-18.5 = -3.6$   \n",
    "\n",
    "(c) A report on the survey states that the observed difference between the sample means is not statistically significant. Explain what this means in context of the hypothesis test and data.  \n",
    "**Ans:** The evidence we get from our sample data is not strong enough to reject null hypothesis and in favor of alternative hypothesis. In other words, the observed difference is likely due to chance or sampling variation under null hypothesis.  \n",
    "\n",
    "(d) Would you expect a confidence interval for the difference between the two population means to contain 0? Explain your reasoning.  \n",
    "**Ans:** Yes. Our null hypothesis claims the average difference between the two population means is 0. Assuming $H_0$ is true, our population mean here would be 0. Since we failed to reject null hypothesis with our sample data, which suggests our sample mean is within 1.96 standard deviation of the population mean under $H_0$, therefore, when calculating CI with confidence level 95%, we define the range as 1.96 standard deviation of the sample mean in both direction, which 0 would be within 1.96 tandard deviation of the sample mean."
   ]
  },
  {
   "cell_type": "code",
   "execution_count": 14,
   "id": "62ffeeec",
   "metadata": {},
   "outputs": [
    {
     "data": {
      "text/plain": [
       "-3.5999999999999996"
      ]
     },
     "execution_count": 14,
     "metadata": {},
     "output_type": "execute_result"
    }
   ],
   "source": [
    "14.9-18.5"
   ]
  },
  {
   "cell_type": "markdown",
   "id": "88d25146",
   "metadata": {},
   "source": [
    "**4.45 Spam mail percentages.** The National Technology Readiness Survey sponsored by the Smith School of Business at the University of Maryland surveyed 418 randomly sampled Americans, asking them how often they delete spam emails. In 2004, 23% of the respondents said they delete their spam mail once a month or less, and in 2009 this value was 16%.  \n",
    "\n",
    "(a) What are the hypotheses for evaluating if the proportion of those who delete their email once a month or less has changed from 2004 to 2009?  \n",
    "**Ans:** \n",
    "$$H_0: p_{2009} - p_{2004} = 0$$\n",
    "$$H_0: p_{2009} - p_{2004} \\ne 0$$\n",
    "\n",
    "(b) What is the point estimate for the difference between the two population proportions?  \n",
    "**Ans:**  \n",
    "$\\hat{p}_{diff} = 0.16-0.23 = -0.07$   \n",
    "\n",
    "(c) A report on the survey states that the observed decrease from 2004 to 2009 is statistically\n",
    "significant. Explain what this means in context of the hypothesis test and the data.  \n",
    "**Ans:**   \n",
    "$SE = \\sqrt{\\frac{p(1-p)}{n}} = \\sqrt{\\frac{0.23(1-0.23)}{418}} \\approx 0.0206$   \n",
    "\n",
    "$\\hat{p}_{diff} = 0.16-0.23=-0.07$.   \n",
    "\n",
    "$Zscore = \\frac{\\hat{p}_diff}{SE} = \\frac{-0.07}{0.0206} \\approx -3.4$. \n",
    "\n",
    "p_value = 0.00067  \n",
    "\n",
    "(d) Would you expect a confidence interval for the difference between the two population proportions to contain 0? Explain your reasoning.  \n",
    "**Ans:** No.  the hypothesis test suggests the observed difference from our samples is outside the range of 1.96 standard deviation of true difference, which under null hypothesis is zero. Therefore, when constructing CI which centered around the sample mean, 0 is outside the 1.96 standard deviation of the sampling distribution."
   ]
  },
  {
   "cell_type": "code",
   "execution_count": 22,
   "id": "83ae4f8f",
   "metadata": {},
   "outputs": [
    {
     "name": "stdout",
     "output_type": "stream",
     "text": [
      "0.02058359080739597\n",
      "[-0.07, -3.400767176874117]\n",
      "0.00033598516754836636\n",
      "[0.00033598516754836636, 0.0006719703350967327]\n"
     ]
    }
   ],
   "source": [
    "import numpy as np\n",
    "import scipy\n",
    "se = np.sqrt(0.23*(1-0.23)/418)\n",
    "print(se)\n",
    "p_diff = 0.16-0.23\n",
    "z_score = p_diff/se\n",
    "print([p_diff,z_score])\n",
    "print(scipy.stats.norm.cdf(z_score))\n",
    "p_value = 2 * scipy.stats.norm.cdf(z_score)\n",
    "print([scipy.stats.norm.cdf(z_score), p_value])"
   ]
  },
  {
   "cell_type": "markdown",
   "id": "a04a0552",
   "metadata": {},
   "source": [
    "Decision errors, significance, and confidence: 4.29, 4.31, 4.47"
   ]
  },
  {
   "cell_type": "markdown",
   "id": "7abb852e",
   "metadata": {},
   "source": [
    "**4.29 Testing for Fibromyalgia.** A patient named Diana was diagnosed with Fibromyalgia, a long-term syndrome of body pain, and was prescribed anti-depressants. Being the skeptic that she is, Diana didn’t initially believe that anti-depressants would help her symptoms. However after a couple months of being on the medication she decides that the anti-depressants are working, because she feels like her symptoms are in fact getting better.  \n",
    "\n",
    "(a) Write the hypotheses in words for Diana’s skeptical position when she started taking the anti-depressants.  \n",
    "**Ans:**  \n",
    "null: anti-depressants does NOT help Diana's symptoms.  \n",
    "Alternative: anti-depressants helps Diana's symptoms.  \n",
    "\n",
    "(b) What is a Type 1 Error in this context?  \n",
    "**Ans:** claims the anti-depressants helps with the symptoms while it is not.  \n",
    "\n",
    "(c) What is a Type 2 Error in this context?  \n",
    "**Ans:** claim the anti-depressants does NOT help the symptoms where it actually help.  "
   ]
  },
  {
   "cell_type": "markdown",
   "id": "8ea2bb10",
   "metadata": {},
   "source": [
    "**4.31 Which is higher?** In each part below, there is a value of interest and two scenarios (I and II). For each part, report if the value of interest is larger under scenario I, scenario II, or whether the value is equal under the scenarios.  \n",
    "(a) The standard error of $\\bar{x}$ when s=120 and(I) n=25 or (II) n=125.   \n",
    "**Ans:** n=25 is higher.  The smaller the sample size, the larger the variability in sampling distribution.  \n",
    "\n",
    "(b) The margin of error of a confidence interval when the confidence level is (I) 90% or (II) 80%.  \n",
    "**Ans:** 90%. The higher the confidence level, the wider the confidence interval, the wider the margin of error.  \n",
    "\n",
    "(c) The p-value for a Z-statistic of 2.5 when (I) n = 500 or (II) n = 1000.\n",
    "**Ans:** same. Z-statistic of the same value would be associated with the same p-value.  \n",
    "\n",
    "(d) The probability of making a Type 2 Error when the alternative hypothesis is true and the\n",
    "significance level is (I) 0.05 or (II) 0.10.  \n",
    "**Ans:** 0.05, the smaller the Type I error, the larger the Type 2 error."
   ]
  },
  {
   "cell_type": "markdown",
   "id": "851fad24",
   "metadata": {},
   "source": [
    "**4.47 Practical vs. statistical.** Determine whether the following statement is true or false, and explain your reasoning: “With large sample sizes, even small differences between the null value and the point estimate can be statistically significant.”  \n",
    "**Ans:** True. large sample size will make the standard error smaller. Thinking about extreme case with extremely large sample, the sampling distribution would be super narrow, making it easier for the differences to be landed at the tail of the distribution."
   ]
  },
  {
   "cell_type": "code",
   "execution_count": null,
   "id": "419b78b1",
   "metadata": {},
   "outputs": [],
   "source": []
  }
 ],
 "metadata": {
  "kernelspec": {
   "display_name": "Python (realestate_env)",
   "language": "python",
   "name": "realestate_env"
  },
  "language_info": {
   "codemirror_mode": {
    "name": "ipython",
    "version": 3
   },
   "file_extension": ".py",
   "mimetype": "text/x-python",
   "name": "python",
   "nbconvert_exporter": "python",
   "pygments_lexer": "ipython3",
   "version": "3.11.4"
  }
 },
 "nbformat": 4,
 "nbformat_minor": 5
}
