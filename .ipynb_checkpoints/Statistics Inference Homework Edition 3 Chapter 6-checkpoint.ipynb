{
 "cells": [
  {
   "cell_type": "markdown",
   "id": "beaadc5c",
   "metadata": {},
   "source": [
    "Single proportion: 6.1, 6.3, 6.5, 6.9, 6.11, 6.13, 6.15, 6.19, 6.21"
   ]
  },
  {
   "cell_type": "markdown",
   "id": "d1c05a22",
   "metadata": {},
   "source": [
    "**6.1 Vegetarian college students.** Suppose that 8% of college students are vegetarians. Determine if the following statements are true or false, and explain your reasoning.  \n",
    "(a) The distribution of the sample proportions of vegetarians in random samples of size 60 is approximately normal since n ≥ 30.  \n",
    "**Ans:** false. in order for the sample proportions distribution to approach normal, $np \\ge 10\\;and\\;n(1-p) \\ge 10$, here, 60 * 8% = 4.8 < 10.   \n",
    "\n",
    "(b) The distribution of the sample proportions of vegetarian college students in random samples of size 50 is right skewed.  \n",
    "**Ans:** True. Since the sample size of 50 is not large enough to meet the success-failure condition, the sampling distribution will be skew. Since the sample proportion is 8% which is closer to 0, therefore, the sampling distribution will be right skew.  \n",
    "\n",
    "(c) A random sample of 125 college students where 12% are vegetarians would be considered unusual.  \n",
    "**Ans:** False. random sample of less than 10% of population, so independent is reasonable claim. the success-failure rate is met. Therefore, i go ahead to assume normal model for the test statistics.  \n",
    "$p_value \\approx 0.1 > 0.05$, therefore, fail to reject null hypothesis. a random sample of 125 college students where 12% were vegetarians would not be considered unusual.  \n",
    "\n",
    "(d) A random sample of 250 college students where 12% are vegetarians would be considered unusual.  \n",
    "**Ans:** True. random sample of less than 10% of population, so independent is reasonable claim. the success-failure rate is met. Therefore, i go ahead to assume normal model for the test statistics.  \n",
    "$p_value \\approx 0.2 < 0.05$, therefore, reject null hypothesis. a random sample of 125 college students where 12% were vegetarians would be considered unusual.\n",
    "\n",
    "\n",
    "(e) The standard error would be reduced by one-half if we increased the sample size from 125 to 250.  \n",
    "**Ans:**  False. reduced by $\\frac{1}{\\sqrt{2}}$"
   ]
  },
  {
   "cell_type": "code",
   "execution_count": 20,
   "id": "d5a06cd1",
   "metadata": {},
   "outputs": [
    {
     "name": "stdout",
     "output_type": "stream",
     "text": [
      "[10.0, 115.0]\n"
     ]
    }
   ],
   "source": [
    "#check s-f condition\n",
    "n = 125\n",
    "p_null = 0.08\n",
    "p_hat = 0.12\n",
    "print([n*p_null, n * (1-p_null)])\n"
   ]
  },
  {
   "cell_type": "code",
   "execution_count": 6,
   "id": "9a2a0d49",
   "metadata": {},
   "outputs": [
    {
     "name": "stdout",
     "output_type": "stream",
     "text": [
      "[1.6484511834894673, 0.09926012026476916]\n"
     ]
    }
   ],
   "source": [
    "import numpy as np\n",
    "import scipy\n",
    "#calculate test statistics\n",
    "se = np.sqrt(p_null*(1-p_null)/n)\n",
    "z_score = (p_hat-p_null-0)/se\n",
    "p_value = 2 * (1- scipy.stats.norm.cdf(z_score))\n",
    "print([z_score, p_value])"
   ]
  },
  {
   "cell_type": "code",
   "execution_count": 21,
   "id": "81235e69",
   "metadata": {},
   "outputs": [
    {
     "name": "stdout",
     "output_type": "stream",
     "text": [
      "[20.0, 230.0]\n"
     ]
    }
   ],
   "source": [
    "#check s-f condition\n",
    "n = 250\n",
    "p_null = 0.08\n",
    "p_hat = 0.12\n",
    "print([n*p_null, n * (1-p_null)])"
   ]
  },
  {
   "cell_type": "code",
   "execution_count": 8,
   "id": "70bbb8d0",
   "metadata": {},
   "outputs": [
    {
     "name": "stdout",
     "output_type": "stream",
     "text": [
      "[2.331262020600784, 0.01973954756993823]\n"
     ]
    }
   ],
   "source": [
    "import numpy as np\n",
    "import scipy\n",
    "#calculate test statistics\n",
    "se = np.sqrt(p_null*(1-p_null)/n)\n",
    "z_score = (p_hat-p_null-0)/se\n",
    "p_value = 2 * (1- scipy.stats.norm.cdf(z_score))\n",
    "print([z_score, p_value])"
   ]
  },
  {
   "cell_type": "markdown",
   "id": "58c78858",
   "metadata": {},
   "source": [
    "**6.3 Orange tabbies.** Suppose that 90% of orange tabby cats are male. Determine if the following statements are true or false, and explain your reasoning.  \n",
    "(a) The distribution of sample proportions of random samples of size 30 is left skewed.  \n",
    "**Ans:** True. S-F condition do not met. sampling distribution will not be normal. With a close to 1 proportion, the distritution will be left skew.  \n",
    "\n",
    "(b) Using a sample size that is 4 times as large will reduce the standard error of the sample proportion by one-half.  \n",
    "**Ans:**  True. \n",
    "$$SE = \\sqrt{\\frac{p(1-p)}{n}}$$\n",
    "\n",
    "$$\\frac{1}{2}SE = \\frac{1}{2}\\sqrt{\\frac{p(1-p)}{n}} = \\sqrt{\\frac{p(1-p)}{4n}}$$  \n",
    "(c) The distribution of sample proportions of random samples of size 140 is approximately normal.  \n",
    "**Ans:**   True. independent is reasonable given random sample of less than 10% of population. S-F conditions are met.   \n",
    "\n",
    "(d) The distribution of sample proportions of random samples of size 280 is approximately normal.  \n",
    "**Ans:**  True. independent is reasonable given random sample of less than 10% of population. S-F conditions are met. "
   ]
  },
  {
   "cell_type": "code",
   "execution_count": 22,
   "id": "dfb61e96",
   "metadata": {},
   "outputs": [
    {
     "name": "stdout",
     "output_type": "stream",
     "text": [
      "[126.0, 13.999999999999996]\n"
     ]
    }
   ],
   "source": [
    "#check s-f condition\n",
    "n = 140\n",
    "p = 0.9\n",
    "print([n*p, n * (1-p)])"
   ]
  },
  {
   "cell_type": "code",
   "execution_count": 23,
   "id": "350207e8",
   "metadata": {},
   "outputs": [
    {
     "name": "stdout",
     "output_type": "stream",
     "text": [
      "[252.0, 27.999999999999993]\n"
     ]
    }
   ],
   "source": [
    "#check s-f condition\n",
    "n = 280\n",
    "p = 0.9\n",
    "print([n*p, n * (1-p)])"
   ]
  },
  {
   "cell_type": "markdown",
   "id": "62fc9d91",
   "metadata": {},
   "source": [
    "**6.5 Prop 19 in California.** In a 2010 Survey USA poll, 70% of the 119 respondents between the ages of 18 and 34 said they would vote in the 2010 general election for Prop 19, which would change California law to legalize marijuana and allow it to be regulated and taxed. At a 95% confidence level, this sample has an 8% margin of error. Based on this information, determine if the following statements are true or false, and explain your reasoning.38\n",
    "(a) We are 95% confident that between 62% and 78% of the California voters in this sample support Prop 19.  \n",
    "**Ans:**  False. the confidence interval is about the population, not the sample.  \n",
    "\n",
    "(b) We are 95% confident that between 62% and 78% of all California voters between the ages of 18 and 34 support Prop 19.  \n",
    "**Ans:** True.   \n",
    "\n",
    "(c) If we considered many random samples of 119 California voters between the ages of 18 and 34, and we calculated 95% confidence intervals for each, 95% of them will include the true population proportion of 18-34 year old Californians who support Prop 19.  \n",
    "**Ans:** True.  \n",
    "\n",
    "(d) In order to decrease the margin of error to 4%, we would need to quadruple (multiply by 4) the sample size.  \n",
    "**Ans:** True.   \n",
    "\n",
    "(e) Based on this confidence interval, there is sufficient evidence to conclude that a majority of California voters between the ages of 18 and 34 support Prop 19.  \n",
    "**Ans:** True.    The lower bound of the confidence interval is ablve 50%."
   ]
  },
  {
   "cell_type": "code",
   "execution_count": 24,
   "id": "3aa9b4e8",
   "metadata": {},
   "outputs": [
    {
     "name": "stdout",
     "output_type": "stream",
     "text": [
      "[83.3, 35.7]\n"
     ]
    }
   ],
   "source": [
    "p_hat = 0.7\n",
    "n = 119\n",
    "margin_of_err = 0.08\n",
    "print([n*p_hat, n * (1-p_hat)])\n"
   ]
  },
  {
   "cell_type": "markdown",
   "id": "4644250c",
   "metadata": {},
   "source": [
    "**6.9 Life after college.** We are interested in estimating the proportion of graduates at a mid-sized university who found a job within one year of completing their undergraduate degree. Suppose we conduct a survey and find out that 348 of the 400 randomly sampled graduates found jobs. The graduating class under consideration included over 4500 students.  \n",
    "(a) Describe the population parameter of interest. What is the value of the point estimate of this parameter?  \n",
    "**Ans:** the parameter of interest is the proportion of graduates who found a job within one year of completing their undergraduate degree in the graduating class from the mid-sized university. point estimate of the parameter is 348/400 = 0.87. \n",
    "\n",
    "(b) Check if the conditions for constructing a confidence interval based on these data are met.  \n",
    "**Ans:** independence is reasonable given random sample of less than 10% population. S-F conditions are both met. so we can assume sample proportion follows a normal distribution. therefore, we can construct a confidence interval by leverage the normal model.  \n",
    "\n",
    "(c) Calculate a 95% confidence interval for the proportion of graduates who found a job within one year of completing their undergraduate degree at this university, and interpret it in the context of the data.  \n",
    "**Ans:**   \n",
    "[83.7%,90.3%]. we are 95% confidence that the proportion of graduates who found a job within one year of completing their undergraduate degree at this university falls between 83.7% and 90.3%.\n",
    "\n",
    "(d) What does “95% confidence” mean?  \n",
    "**Ans:**  \n",
    "if we were to draw many(e.g. 10,000) random samples of size 400 and construct a 95% confidence interval for the proportion of graduates who found a job within 1 year of completing their undergraduate degree at this university each time, 95% of time(9,500 out of 10,000) of those intervals include the true parameter of interest.   \n",
    "\n",
    "(e) Now calculate a 99% confidence interval for the same parameter and interpret it in the context of the data.  \n",
    "**Ans:**  \n",
    "[82.7%,91.3%]. \n",
    "\n",
    "(f) Compare the widths of the 95% and 99% confidence intervals. Which one is wider? Explain.  \n",
    "**Ans:** \n",
    "99% is wider. higher confidence level is associated with larger z critical value, which is used in calculating the margin of error. larger margin of error means wider confidence interval."
   ]
  },
  {
   "cell_type": "code",
   "execution_count": 25,
   "id": "0265c0ef",
   "metadata": {},
   "outputs": [
    {
     "name": "stdout",
     "output_type": "stream",
     "text": [
      "[348.0, 52.0]\n"
     ]
    }
   ],
   "source": [
    "p_hat = 348/400\n",
    "n = 400\n",
    "print([n*p_hat,n*(1-p_hat)])"
   ]
  },
  {
   "cell_type": "code",
   "execution_count": 27,
   "id": "8d771e5e",
   "metadata": {},
   "outputs": [
    {
     "name": "stdout",
     "output_type": "stream",
     "text": [
      "[0.8370422634272315, 0.9029577365727685]\n"
     ]
    }
   ],
   "source": [
    "z_critical = 1.96\n",
    "se = np.sqrt(p_hat * (1-p_hat) / n)\n",
    "margin_of_err = z_critical * se\n",
    "print([p_hat - margin_of_err, p_hat + margin_of_err])"
   ]
  },
  {
   "cell_type": "code",
   "execution_count": 29,
   "id": "d72e4a8d",
   "metadata": {},
   "outputs": [
    {
     "name": "stdout",
     "output_type": "stream",
     "text": [
      "[0.8269531603947514, 0.9130468396052486]\n"
     ]
    }
   ],
   "source": [
    "z_critical = 2.56\n",
    "se = np.sqrt(p_hat * (1-p_hat) / n)\n",
    "margin_of_err = z_critical * se\n",
    "print([p_hat - margin_of_err, p_hat + margin_of_err])"
   ]
  },
  {
   "cell_type": "markdown",
   "id": "19eaa1ac",
   "metadata": {},
   "source": [
    "**6.11 Study abroad.** A survey on 1,509 high school seniors who took the SAT and who completed an optional web survey between April 25 and April 30, 2007 shows that 55% of high school seniors are fairly certain that they will participate in a study abroad program in college.  \n",
    "(a) Is this sample a representative sample from the population of all high school seniors in the US? Explain your reasoning.  \n",
    "**Ans:** no. not all high school seniors take SAT, however, the survey sampled seniors who took the SAT. It's possible that seniors who take SAT would have quite different perspect regarding studying abroad compared to seniors who did not take SAT.  \n",
    "\n",
    "(b) Let’s suppose the conditions for inference are met. Even if your answer to part (a) indicated that this approach would not be reliable, this analysis may still be interesting to carry out (though not report). Construct a 90% confidence interval for the proportion of high school seniors (of those who took the SAT) who are fairly certain they will participate in a study abroad program in college, and interpret this interval in context.  \n",
    "**Ans:** \n",
    "[53.94%, 56.06%]\n",
    "\n",
    "(c) What does “90% confidence” mean?  \n",
    "**Ans:** \n",
    "\n",
    "(d) Based on this interval, would it be appropriate to claim that the majority of high school seniors are fairly certain that they will participate in a study abroad program in college?  \n",
    "**Ans:** to get this claim, we would need our sample to be more representitive to the population. Our sample only survey high school seniors who took the SAT, which represents a sub-group of the population. "
   ]
  },
  {
   "cell_type": "code",
   "execution_count": 94,
   "id": "0958df18",
   "metadata": {},
   "outputs": [
    {
     "name": "stdout",
     "output_type": "stream",
     "text": [
      "[829.95, 679.05]\n"
     ]
    }
   ],
   "source": [
    "p_hat = 0.55\n",
    "n = 1509\n",
    "print([n*p_hat,n*(1-p_hat)])"
   ]
  },
  {
   "cell_type": "code",
   "execution_count": 95,
   "id": "00b20fa0",
   "metadata": {},
   "outputs": [
    {
     "name": "stdout",
     "output_type": "stream",
     "text": [
      "[0.5288686654420786, 0.5711313345579215]\n"
     ]
    }
   ],
   "source": [
    "z_critical = 1.65\n",
    "se = np.sqrt(p_hat * (1-p_hat) / n)\n",
    "margin_of_err = z_critical * se\n",
    "print([p_hat - margin_of_err, p_hat + margin_of_err])"
   ]
  },
  {
   "cell_type": "markdown",
   "id": "4d477a94",
   "metadata": {},
   "source": [
    "**6.13 Public option, Part I.** A Washington Post article from 2009 reported that “support for a government-run health-care plan to compete with private insurers has rebounded from its summertime lows and wins clear majority support from the public.” More specifically, the article says “seven in 10 Democrats back the plan, while almost nine in 10 Republicans oppose it. In- dependents divide 52 percent against, 42 percent in favor of the legislation.” (6% responded with “other”.) There were 819 Democrats, 566 Republicans and 783 Independents surveyed.  \n",
    "**Ans:** \n",
    "*check conditions:*. \n",
    "1) meet S-F conditions;  \n",
    "2) 783 independents is less than 10% population. however, it is not clear if it is random sample, but i will go ahead to assume people in the survey are independent. therefore, a normal model will be used.  \n",
    "\n",
    "(a) A political pundit on TV claims that a majority of Independents oppose the health care public option plan. Do these data provide strong evidence to support this statement?  \n",
    "**Ans:** \n",
    "in order to claims that a majority of independents oppose the health care public option plan, we need to check if the confidence interval include 0.5. 52% is a point estimate of the parameter of interest, it is subject to sampling error given we are dealing with a sample, not the population.   \n",
    "\n",
    "(b) Would you expect a confidence interval for the proportion of Independents who oppose the public option plan to include 0.5? Explain.\n",
    "**Ans:**   \n",
    "based on the below calculation, 95% confidence interval does include 0.5, which meas, the previous claim is not supported by the data. "
   ]
  },
  {
   "cell_type": "code",
   "execution_count": 33,
   "id": "7bf75dd0",
   "metadata": {},
   "outputs": [
    {
     "name": "stdout",
     "output_type": "stream",
     "text": [
      "[407.16, 375.84]\n"
     ]
    }
   ],
   "source": [
    "n = 783\n",
    "p_hat = 0.52\n",
    "print([n * p_hat, n * (1-p_hat)])"
   ]
  },
  {
   "cell_type": "code",
   "execution_count": 34,
   "id": "97e52af2",
   "metadata": {},
   "outputs": [
    {
     "name": "stdout",
     "output_type": "stream",
     "text": [
      "[0.4739619347900473, 0.5660380652099528]\n"
     ]
    }
   ],
   "source": [
    "z_critical = 1.96 #95% confidence interval\n",
    "se = np.sqrt(p * (1 - p_hat) / n)\n",
    "margin_of_err = z_critical * se\n",
    "print([p_hat - margin_of_err, p_hat + margin_of_err])"
   ]
  },
  {
   "cell_type": "markdown",
   "id": "ae30e6b3",
   "metadata": {},
   "source": [
    "**6.15 Browsing on the mobile device.** A 2012 survey of 2,254 American adults indicates that 17% of cell phone owners do their browsing on their phone rather than a computer or other device.  \n",
    "\n",
    "**Ans:** \n",
    "*check conditions:*. \n",
    "1) meet S-F conditions;  \n",
    "2) 2254 independents is less than 10% population. however, it is not clear if it is random sample, but i will go ahead to assume people in the survey are independent. therefore, a normal model will be used.  \n",
    "\n",
    "(a) According to an online article, a report from a mobile research company indicates that 38 percent of Chinese mobile web users only access the internet through their cell phones. Conduct a hypothesis test to determine if these data provide strong evidence that the proportion of Americans who only use their cell phones to access the internet is different than the Chinese proportion of 38%.  \n",
    "**Ans:** \n",
    "$$H_0: p_{America} - 0.38 = 0$$. \n",
    "$$H_0: p_{America} - 0.38 \\ne 0$$. \n",
    "based on below calculation, p_value is less than 5%, therefore, reject null hypothese and the data provide strong evidence in favor of alternative hypothesis that the proportion of Americans who only use cell phones to access the internet is different than the Chinese proportion of 38%.  \n",
    "\n",
    "(b) Interpret the p-value in this context.  \n",
    "**Ans:** the probability of seeing at most 17% American adults who only use cell phones to access the internet in a sample of 2254 adults given the true proportion of American adults using cell phone to access the internet is 38%. <span style=\"color:red\">if in fact 38% of Americans used their cell phones as a primary access point to the internet, the probability of obtaining a random sample of 2,254 Americans where 17% or less or 59% or more use only their cell phones to access the internet would be approximately 0</span>    \n",
    "\n",
    "(c) Calculate a 95% confidence interval for the proportion of Americans who access the internet on their cell phones, and interpret the interval in this context.  \n",
    "**Ans:** \n",
    "[15.45%, 18.55%]  \n",
    "we are 95% confidence that the proportion of Americans who access the internet on their cell phones landed in the interval between 15.45% and 18.55%."
   ]
  },
  {
   "cell_type": "code",
   "execution_count": 35,
   "id": "5d9e5486",
   "metadata": {},
   "outputs": [
    {
     "name": "stdout",
     "output_type": "stream",
     "text": [
      "[856.52, 1397.48]\n"
     ]
    }
   ],
   "source": [
    "p = 0.38\n",
    "p_hat = 0.17\n",
    "n = 2254\n",
    "print([n * p, n * (1-p)])"
   ]
  },
  {
   "cell_type": "code",
   "execution_count": 36,
   "id": "27ec7dee",
   "metadata": {},
   "outputs": [
    {
     "name": "stdout",
     "output_type": "stream",
     "text": [
      "9.381342973177259e-94\n"
     ]
    }
   ],
   "source": [
    "#hypothesis test\n",
    "se = np.sqrt(p * (1-p)/ n)\n",
    "z_score = (p_hat - p)/se\n",
    "p_value = 2 * scipy.stats.norm.cdf(z_score)\n",
    "print(p_value)"
   ]
  },
  {
   "cell_type": "code",
   "execution_count": 39,
   "id": "992f47df",
   "metadata": {},
   "outputs": [
    {
     "name": "stdout",
     "output_type": "stream",
     "text": [
      "[0.15449247027212687, 0.18550752972787315]\n"
     ]
    }
   ],
   "source": [
    "#confidence interval\n",
    "z_critical = 1.96 #95% CI\n",
    "se = np.sqrt(p_hat * (1-p_hat)/ n)\n",
    "margin_of_err = z_critical * se\n",
    "print([p_hat - margin_of_err, p_hat + margin_of_err])"
   ]
  },
  {
   "cell_type": "markdown",
   "id": "fe171d53",
   "metadata": {},
   "source": [
    "**6.19 College smokers.** We are interested in estimating the proportion of students at a university who smoke. Out of a random sample of 200 students from this university, 40 students smoke.  \n",
    "\n",
    "**Ans:** \n",
    "*check conditions:*. \n",
    "1) meet S-F conditions;  \n",
    "2) 200 is less than than 10% of population if it is a decent size university and it is a random sample, so independent sounds reasonable.  \n",
    "\n",
    "(a) Calculate a 95% confidence interval for the proportion of students at this university who smoke, and interpret this interval in context. (Reminder: Check conditions.)  \n",
    "**Ans:** \n",
    "[14.46%, 25.54%]. we are 95% confident the the proportions of students at this university who smoke landed between 14.46% and 25.54%.  \n",
    "\n",
    "(b) If we wanted the margin of error to be no larger than 2% at a 95% confidence level for the proportion of students who smoke, how big of a sample would we need?  \n",
    "**Ans:** \n",
    "$$Margin\\;of\\;Error = z^* \\times \\sqrt{\\frac{\\hat{p}(1-\\hat{p})}{n}}$$  \n",
    "\n",
    "$$n = \\frac{{z^*}^2}{(Margin\\;of\\;Error)^2} \\times \\hat{p} \\times (1-\\hat{p})$$  \n",
    "\n",
    "$$n = 1089$$\n",
    "\n"
   ]
  },
  {
   "cell_type": "code",
   "execution_count": 100,
   "id": "60514ce2",
   "metadata": {},
   "outputs": [
    {
     "name": "stdout",
     "output_type": "stream",
     "text": [
      "[40.0, 160.0]\n"
     ]
    }
   ],
   "source": [
    "#check condition\n",
    "n = 200\n",
    "p_hat = 40/200\n",
    "print([n * p_hat, n * (1-p_hat)])"
   ]
  },
  {
   "cell_type": "code",
   "execution_count": 99,
   "id": "fc9321f3",
   "metadata": {},
   "outputs": [
    {
     "data": {
      "text/plain": [
       "0.2"
      ]
     },
     "execution_count": 99,
     "metadata": {},
     "output_type": "execute_result"
    }
   ],
   "source": [
    "40/200"
   ]
  },
  {
   "cell_type": "code",
   "execution_count": 41,
   "id": "2972e181",
   "metadata": {},
   "outputs": [
    {
     "name": "stdout",
     "output_type": "stream",
     "text": [
      "[0.1445628283549747, 0.25543717164502533]\n"
     ]
    }
   ],
   "source": [
    "#95% confidence interval\n",
    "z_critical = 1.96 #95% CI\n",
    "se = np.sqrt(p_hat * (1-p_hat)/n)\n",
    "margin_of_err = z_critical * se\n",
    "print([p_hat - margin_of_err, p_hat + margin_of_err])"
   ]
  },
  {
   "cell_type": "code",
   "execution_count": 101,
   "id": "2c16008a",
   "metadata": {},
   "outputs": [
    {
     "name": "stdout",
     "output_type": "stream",
     "text": [
      "1089.0\n"
     ]
    }
   ],
   "source": [
    "#sample size\n",
    "n_update = np.power(z_critical,2)/np.power(0.02,2) * p_hat * (1 - p_hat)\n",
    "print(n_update)"
   ]
  },
  {
   "cell_type": "markdown",
   "id": "4b61d648",
   "metadata": {},
   "source": [
    "**6.21 Public option, Part II.** Exercise 6.13 presents the results of a poll evaluating support for the health care public option in 2009, reporting that 52% of Independents in the sample opposed the public option. If we wanted to estimate this number to within 1% with 90% confidence, what would be an appropriate sample size?  \n",
    "**Ans:** \n",
    "n = 6796"
   ]
  },
  {
   "cell_type": "code",
   "execution_count": 102,
   "id": "6c5d1a92",
   "metadata": {},
   "outputs": [
    {
     "name": "stdout",
     "output_type": "stream",
     "text": [
      "6795.359999999999\n"
     ]
    }
   ],
   "source": [
    "margin_of_err = 0.01\n",
    "z_critical = 1.65 #90% ci\n",
    "p_hat = 0.52\n",
    "n_update = np.power(z_critical,2)/np.power(margin_of_err,2) * p_hat * (1 - p_hat)\n",
    "print(n_update)"
   ]
  },
  {
   "cell_type": "markdown",
   "id": "2e1f033b",
   "metadata": {},
   "source": [
    "Comparing two proportions: 6.23, 6.25, 6.27, 6.29, 6.31, 6.33, 6.35"
   ]
  },
  {
   "cell_type": "markdown",
   "id": "1176d190",
   "metadata": {},
   "source": [
    "**6.23 Social experiment, Part I.** A “social experiment” conducted by a TV program ques- tioned what people do when they see a very obviously bruised woman getting picked on by her boyfriend. On two different occasions at the same restaurant, the same couple was depicted. In one scenario the woman was dressed “provocatively” and in the other scenario the woman was dressed “conservatively”. The table below shows how many restaurant diners were present under each scenario, and whether or not they intervened.\n",
    "\n",
    "Explain why the sampling distribution of the difference between the proportions of interventions under provocative and conservative scenarios does not follow an approximately normal distribution.\n",
    "\n",
    "**Ans**. \n",
    "1. independent may not meet. As one diner's choice of intervention may impact another diner's choice.   \n",
    "2. the succcess-failuer rate for the provocative group was not met, the conservative group has just met the S-F condition.  \n",
    "Given both conditions were clearly not met, the sampling distribution of the difference between the proportions fo interventions under provocative and conservative scenarios does not follow normal distribution."
   ]
  },
  {
   "cell_type": "markdown",
   "id": "e4cd4954",
   "metadata": {},
   "source": [
    "6.25 Gender and color preference. A 2001 study asked 1,924 male and 3,666 female undergraduate college students their favorite color. A 95% confidence interval for the difference between the proportions of males and females whose favorite color is black (pmale −pfemale) was calculated to be (0.02, 0.06). Based on this information, determine if the following statements are true or false, and explain your reasoning for each statement you identify as false.  \n",
    "\n",
    "(a) We are 95% confident that the true proportion of males whose favorite color is black is 2% lower to 6% higher than the true proportion of females whose favorite color is black. **Ans**. False. if lower, it should be -0.02. a positive number indicate higher proportion of males who favor black.  \n",
    "\n",
    "(b) We are 95% confident that the true proportion of males whose favorite color is black is 2% to 6% higher than the true proportion of females whose favorite color is black.   **Ans**. True.   \n",
    "\n",
    "(c) 95% of random samples will produce 95% confidence intervals that include the true difference between the population proportions of males and females whose favorite color is black. **Ans**. True.   \n",
    "\n",
    "(d) We can conclude that there is a significant difference between the proportions of males and fe- males whose favorite color is black and that the difference between the two sample proportions is too large to plausibly be due to chance. **Ans**.  True.  \n",
    "\n",
    "(e) The 95% confidence interval for (pfemale −pmale) cannot be calculated with only the informa- tion given in this exercise. **Ans**.  False. it is [-0.06, -0.02]"
   ]
  },
  {
   "cell_type": "markdown",
   "id": "8c3a0667",
   "metadata": {},
   "source": [
    "**6.27 Public Option, Part III.** Exercise 6.13 presents the results of a poll evaluating support for the health care public option plan in 2009. 70% of 819 Democrats and 42% of 783 Independents support the public option.\n",
    "(a) Calculate a 95% confidence interval for the difference between (pD − pI ) and interpret it in this context. We have already checked conditions for you.  \n",
    "**Ans** [23.33%, 32.67%]  \n",
    "(b) True or false: If we had picked a random Democrat and a random Independent at the time of this poll, it is more likely that the Democrat would support the public option than the Independent.\n",
    "**Ans** True. "
   ]
  },
  {
   "cell_type": "code",
   "execution_count": 49,
   "id": "044aa1b6",
   "metadata": {},
   "outputs": [
    {
     "name": "stdout",
     "output_type": "stream",
     "text": [
      "[0.23330749433292225, 0.3266925056670777]\n"
     ]
    }
   ],
   "source": [
    "p_demo = 0.7; p_indp = 0.42\n",
    "p_diff = p_demo - p_indp \n",
    "n_demo = 819; n_indp = 783\n",
    "se_diff = np.sqrt(p_demo*(1-p_demo)/n_demo + p_indp*(1-p_indp)/n_indp)\n",
    "z_critical = 1.96 # 95% ci\n",
    "margin_of_err = z_critical * se_diff\n",
    "print([p_diff - margin_of_err, p_diff + margin_of_err])"
   ]
  },
  {
   "cell_type": "markdown",
   "id": "3e3dc10c",
   "metadata": {},
   "source": [
    "**6.29 Offshore drilling, Part I.** A 2010 survey asked 827 randomly sampled registered voters in California “Do you support? Or do you oppose? Drilling for oil and natural gas off the Coast of California? Or do you not know enough to say?” Below is the distribution of responses, separated based on whether or not the respondent graduated from college.  \n",
    "\n",
    "(a) What percent of college graduates and what percent of the non-college graduates in this sample do not know enough to have an opinion on drilling for oil and natural gas off the Coast of California?  \n",
    "$p_{grad} = 0.2374$.   \n",
    "$p_{notgrad} = 0.3368$. \n",
    "\n",
    "(b) Conduct a hypothesis test to determine if the data provide strong evidence that the proportion of college graduates who do not have an opinion on this issue is different than that of non-college graduates.  \n",
    "\n",
    "$H_0: p_{grad} - p_{notgrad} = 0$  \n",
    "$H_A: p_{grad} - p_{notgrad} \\ne 0$. \n",
    "p-value is less than 0.05, so the data provide strong evidence that the proportion of college graduates who do not have an opinion on this issue is different than that of non-college graduates."
   ]
  },
  {
   "cell_type": "code",
   "execution_count": 108,
   "id": "92cd01b8",
   "metadata": {},
   "outputs": [
    {
     "name": "stdout",
     "output_type": "stream",
     "text": [
      "[0.2374429223744292, 0.33676092544987146]\n"
     ]
    }
   ],
   "source": [
    "p_grad = 104/438\n",
    "p_notgrad = 131/389\n",
    "print([p_grad,p_notgrad])\n",
    "n_grad = 438\n",
    "n_notgrad = 389"
   ]
  },
  {
   "cell_type": "code",
   "execution_count": 109,
   "id": "19df59a8",
   "metadata": {},
   "outputs": [
    {
     "data": {
      "text/plain": [
       "0.2841596130592503"
      ]
     },
     "execution_count": 109,
     "metadata": {},
     "output_type": "execute_result"
    }
   ],
   "source": [
    "p_pool = (104+131)/(438+389)\n",
    "p_pool"
   ]
  },
  {
   "cell_type": "code",
   "execution_count": 110,
   "id": "32165a5f",
   "metadata": {},
   "outputs": [],
   "source": [
    "p_diff = p_grad - p_notgrad\n",
    "se_diff = np.sqrt(p_pool*(1-p_pool)/n_grad + p_pool * (1-p_pool)/n_notgrad)"
   ]
  },
  {
   "cell_type": "code",
   "execution_count": 111,
   "id": "9f36d161",
   "metadata": {},
   "outputs": [],
   "source": [
    "z_score = (p_diff - 0)/se_diff\n",
    "p_value = 2 * scipy.stats.norm.cdf(z_score)"
   ]
  },
  {
   "cell_type": "code",
   "execution_count": 112,
   "id": "083aa527",
   "metadata": {},
   "outputs": [
    {
     "name": "stdout",
     "output_type": "stream",
     "text": [
      "0.001573333906597182\n"
     ]
    }
   ],
   "source": [
    "print(p_value)"
   ]
  },
  {
   "cell_type": "markdown",
   "id": "7d6648d9",
   "metadata": {},
   "source": [
    "**6.31 Offshore drilling, Part II.** Results of a poll evaluating support for drilling for oil and natural gas off the coast of California were introduced in Exercise 6.29.  \n",
    "(a) What percent of college graduates and what percent of the non-college graduates in this sample support drilling for oil and natural gas off the Coast of California?  \n",
    "$p_{grad} = 0.3516$.   \n",
    "$p_{notgrad} = 0.3393$. \n",
    "\n",
    "(b) Conduct a hypothesis test to determine if the data provide strong evidence that the proportion of college graduates who support off-shore drilling in California is different than that of non- college graduates.  \n",
    "$H_0: p_{grad} - p_{notgrad} = 0$  \n",
    "$H_A: p_{grad} - p_{notgrad} \\ne 0$. \n",
    "p-value is 0.7247 > 0.05, therefore, fail to reject null hypothesis that the proportion of college graduates who support the off-shore drilling in California is not different than that of non-college graduates. "
   ]
  },
  {
   "cell_type": "code",
   "execution_count": 113,
   "id": "f8889a54",
   "metadata": {},
   "outputs": [
    {
     "name": "stdout",
     "output_type": "stream",
     "text": [
      "[0.3515981735159817, 0.3393316195372751]\n"
     ]
    }
   ],
   "source": [
    "p_grad = 154/438\n",
    "p_notgrad = 132/389\n",
    "print([p_grad,p_notgrad])\n",
    "n_grad = 438\n",
    "n_notgrad = 389"
   ]
  },
  {
   "cell_type": "code",
   "execution_count": 114,
   "id": "945ce477",
   "metadata": {},
   "outputs": [],
   "source": [
    "p_pool = (154+132)/(438+389)\n",
    "p_diff = p_grad - p_notgrad\n",
    "se_diff = np.sqrt(p_pool*(1-p_pool)/n_grad + p_pool * (1-p_pool)/n_notgrad)"
   ]
  },
  {
   "cell_type": "code",
   "execution_count": 117,
   "id": "24b73ccb",
   "metadata": {},
   "outputs": [
    {
     "data": {
      "text/plain": [
       "0.34582829504232165"
      ]
     },
     "execution_count": 117,
     "metadata": {},
     "output_type": "execute_result"
    }
   ],
   "source": [
    "p_pool"
   ]
  },
  {
   "cell_type": "code",
   "execution_count": 115,
   "id": "29ef1f1e",
   "metadata": {},
   "outputs": [],
   "source": [
    "z_score = (p_diff - 0)/se_diff\n",
    "p_value = 2 * (1-scipy.stats.norm.cdf(z_score))"
   ]
  },
  {
   "cell_type": "code",
   "execution_count": 116,
   "id": "19326ec1",
   "metadata": {},
   "outputs": [
    {
     "name": "stdout",
     "output_type": "stream",
     "text": [
      "0.7112530865277091\n"
     ]
    }
   ],
   "source": [
    "print(p_value)"
   ]
  },
  {
   "cell_type": "markdown",
   "id": "18a8a32d",
   "metadata": {},
   "source": [
    "**6.33 Sleep deprived transportation workers.** The National Sleep Foundation conducted a survey on the sleep habits of randomly sampled transportation workers and a control sample of non-transportation workers. The results of the survey are shown below.56\n",
    "\n",
    "Conduct a hypothesis test to evaluate if these data provide evidence of a difference between the proportions of truck drivers and non-transportation workers (the control group) who get less than 6 hours of sleep per day, i.e. are considered sleep deprived. \n",
    "$$H_0: p_{control} - p_{truck} = 0$$\n",
    "$$H_A: p_{control} - p_{truck} \\ne 0$$\n",
    "p_value = 0.1 > 0.05, therefore, reject null hypothesis."
   ]
  },
  {
   "cell_type": "code",
   "execution_count": 118,
   "id": "2202f7cf",
   "metadata": {},
   "outputs": [],
   "source": [
    "p_control = 35/292\n",
    "p_truck = 35/203\n",
    "p_pool = (35+35)/(292+203)\n",
    "p_diff = p_control - p_truck\n",
    "n_control = 292\n",
    "n_truck = 203\n",
    "se_pool =np.sqrt(p_control * (1-p_control)/n_control + p_truck * (1-p_truck)/n_truck)\n",
    "z_score = (p_diff - 0)/se_pool\n",
    "p_value = 2 * scipy.stats.norm.cdf(z_score)"
   ]
  },
  {
   "cell_type": "code",
   "execution_count": 120,
   "id": "8deb6c59",
   "metadata": {},
   "outputs": [
    {
     "name": "stdout",
     "output_type": "stream",
     "text": [
      "[-1.6109110850818886, 0.10719910357164932]\n"
     ]
    }
   ],
   "source": [
    "print([z_score,p_value])"
   ]
  },
  {
   "cell_type": "markdown",
   "id": "0af84154",
   "metadata": {},
   "source": [
    "**6.35 HIV in sub-Saharan Africa.** In July 2008 the US National Institutes of Health announced that it was stopping a clinical study early because of unexpected results. The study population consisted of HIV-infected women in sub-Saharan Africa who had been given single dose Nevaripine (a treatment for HIV) while giving birth, to prevent transmission of HIV to the infant. The study was a randomized comparison of continued treatment of a woman (after successful childbirth) with Nevaripine vs. Lopinavir, a second drug used to treat HIV. 240 women participated in the study; 120 were randomized to each of the two treatments. Twenty-four weeks after starting the study treatment, each woman was tested to determine if the HIV infection was becoming worse (an outcome called virologic failure). Twenty-six of the 120 women treated with Nevaripine experienced virologic failure, while 10 of the 120 women treated with the other drug experienced virologic failure.59  \n",
    "(a) Create a two-way table presenting the results of this study.  \n",
    "| |Nevaripine|Lopinavir|Total|\n",
    "|---|---|---|---|  \n",
    "|virologic failure|26|10|36|\n",
    "|not virologic failure|94|110|204| \n",
    "|total|120|120|240| \n",
    "\n",
    "\n",
    "(b) State appropriate hypotheses to test for independence of treatment and virologic failure.  \n",
    "**Ans:** The proportion of people experienced virologic failure is not difference between women who was treated by Nevaripine vs who was treated by Lopinavir.  \n",
    "\n",
    "(c) Complete the hypothesis test and state an appropriate conclusion. (Reminder: Verify any necessary conditions for the test.)  \n",
    "**Ans:**   \n",
    "1. check condition\n",
    "independent: random sample, each sample is less than 10% of population.  \n",
    "sample size: success and failure count are all at least 10 in both treatment groups.  \n",
    "therefore, we can assume the sampleing distribution of the difference of proportion of people experienced virologic failure between the two treatments is nearly normal.   <span style=\"color:red\">we should use the pooled proportion to check the success-failure condition</span>    \n",
    "\n",
    "2. p-value is around 0.038 < 0.05, therefore, reject null hypothese and in favor of the alternative hypothesis that The proportion of people experienced virologic failure is different between two treatments."
   ]
  },
  {
   "cell_type": "code",
   "execution_count": 77,
   "id": "99ab2ec2",
   "metadata": {},
   "outputs": [
    {
     "name": "stdout",
     "output_type": "stream",
     "text": [
      "0.0038230343585821114\n"
     ]
    }
   ],
   "source": [
    "p_nev = 26/120\n",
    "p_lop = 10/120\n",
    "n_nev = 120\n",
    "n_lop = 120\n",
    "p_pooled = 36/240\n",
    "p_diff = p_nev - p_lop\n",
    "se_pooled = np.sqrt(p_pooled * (1 - p_pooled) / n_nev + p_pooled * (1-p_pooled) / n_lop)\n",
    "z_score = p_diff/se_pooled\n",
    "p_value = 2 * (1-scipy.stats.norm.cdf(z_score))\n",
    "print(p_value)"
   ]
  },
  {
   "cell_type": "markdown",
   "id": "c4e00e69",
   "metadata": {},
   "source": [
    "Inference for proportions via simulation: 6.51, 6.53, 6.55"
   ]
  },
  {
   "cell_type": "markdown",
   "id": "137325cd",
   "metadata": {},
   "source": [
    "**6.51 Bullying in schools.** A 2012 Survey USA poll asked Florida residents how big of a problem they thought bullying was in local schools. 9 out of 191 18-34 year olds responded that bullying is no problem at all. Using these data, is it appropriate to construct a confidence interval using the formula pˆ±z⋆􏰊pˆ(1 − pˆ)/n for the true proportion of 18-34 year old Floridians who think bullying is no problem at all? If it is appropriate, construct the confidence interval. If it is not, explain why.  \n",
    "\n",
    "**Ans:** because success-failure condition is not met, 9 is less than 10, a normal model is not appropiatle for the parameter of interest, therefore, using the above formula, which assume normality, is not appropiate. "
   ]
  },
  {
   "cell_type": "markdown",
   "id": "955390c8",
   "metadata": {},
   "source": [
    "**6.53 The Egyptian Revolution.** A popular uprising that started on January 25, 2011 in Egypt led to the 2011 Egyptian Revolution. Polls show that about 69% of American adults followed the news about the political crisis and demonstrations in Egypt closely during the first couple weeks following the start of the uprising. Among a random sample of 30 high school students, it was found that only 17 of them followed the news about Egypt closely during this time.  \n",
    "\n",
    "(a) Write the hypotheses for testing if the proportion of high school students who followed the news about Egypt is different than the proportion of American adults who did.  \n",
    "**Ans:**   \n",
    "$$H_0: p_{students} - 0.69 = 0$$\n",
    "$$H_A: p_{students} - 0.69 \\ne 0$$\n",
    "\n",
    "(b) Calculate the proportion of high schoolers in this sample who followed the news about Egypt closely during this time.  \n",
    "**Ans:**   \n",
    "$p_{students} = 17/30=0.567$.   \n",
    "\n",
    "(c) Based on large sample theory, we modeled pˆ using the normal distribution. Why should we be cautious about this approach for these data?  \n",
    "**Ans:**   \n",
    "if we want to use hypothesis test to validate the claim, the null hypothese assume the proportation of student is 0.69, given sample size of 30, that gives $n*(1-p_0) = 9.3 < 10$, although, it is not far from the 10 requirement, the underlinging normal distribution assumption may not hold for this data.  \n",
    "\n",
    "(d) The normal approximation will not be as reliable as a simulation, especially for a sample of this size.   Describe how to perform such a simulation and, once you had results, how to estimate the p-value.  \n",
    "**Ans:**   \n",
    "1) i will flip an unfair coin for 30 times, this coin has 69% chance to land on a head. During each flip, i record if it is a head or tail. i then calculate the number of heads out of 30 flips and record the statistics $\\frac{numner\\;of\\;heads}{number\\;of\\;flips}$ \n",
    "2) I repeat step 1 for 10,000 times. This gives me 10,000 statistics.\n",
    "3) I sort the 10,000 from low to high\n",
    "4) I find the index for 0.567 so that the left hand would be lower than 0.567 and the right hand would be higher than 0.567.\n",
    "5) the p_value would be the index/10,000<span style=\"color:red\"> * 2</span>    \n",
    "6) i would compare the p_value to the significance level, 0.05 and than make a conclustion based on the simulation results.\n",
    "\n",
    "(e) Below is a histogram showing the distribution of pˆsim in 10,000 simulations under the null hypothesis. Estimate the p-value using the plot and determine the conclusion of the hypothesis test.  \n",
    "**Ans:**   \n",
    "p-value is probably around 0.1<span style=\"color:red\"> * 2</span>   , which is greater than 0.05. We do not reject null hypothesis. "
   ]
  },
  {
   "cell_type": "markdown",
   "id": "5a2c13c8",
   "metadata": {},
   "source": [
    "**6.55 Social experiment, Part II.** Exercise 6.23 introduces a “social experiment” conducted by a TV program that questioned what people do when they see a very obviously bruised woman getting picked on by her boyfriend. On two different occasions at the same restaurant, the same couple was depicted. In one scenario the woman was dressed “provocatively” and in the other scenario the woman was dressed “conservatively”. The table below shows how many restaurant diners were present under each scenario, and whether or not they intervened.  \n",
    "A simulation was conducted to test if people react differently under the two scenarios. 10,000 simulated differences were generated to construct the null distribution shown. The value $\\hat{p}_{prsim}$ represents the proportion of diners who intervened in the simulation for the provocatively dressed woman, and $\\hat{p}_{consim}$ is the proportion for the conservatively dressed woman.  \n",
    "\n",
    "(a) What are the hypotheses? For the purposes of this exercise, you may assume that each observed person at the restaurant behaved independently, though we would want to evaluate this assumption more rigorously if we were reporting these results.  \n",
    "**Ans:**  \n",
    "$$H_0: \\hat{p}_{pr} − \\hat{p}_{con} = 0$$\n",
    "$$H_A: \\hat{p}_{pr} − \\hat{p}_{con} \\ne 0$$\n",
    "\n",
    "(b) Calculate the observed difference between the rates of intervention under the provocative and conservative scenarios: $\\hat{p}_{pr} − \\hat{p}_{con}$  \n",
    "**Ans:**  \n",
    "$\\hat{p}_{diff} = \\hat{p}_{pr} − \\hat{p}_{con} = -0.35$. \n",
    "\n",
    "(c) Estimate the p-value using the figure above and determine the conclusion of the hypothesis test.  \n",
    "**Ans:** \n",
    "p-value should be less than 0.05, therefore, we reject null hypothesis and support the claim that the proportion of intervention between provocatively dressed woman and conservatively dressed woman is different."
   ]
  },
  {
   "cell_type": "code",
   "execution_count": 81,
   "id": "159c2372",
   "metadata": {},
   "outputs": [
    {
     "name": "stdout",
     "output_type": "stream",
     "text": [
      "[0.25, 0.6, -0.35]\n"
     ]
    }
   ],
   "source": [
    "p_pr = 5/20\n",
    "p_con = 15/25\n",
    "p_diff = p_pr-p_con\n",
    "print([p_pr,p_con,p_diff])"
   ]
  },
  {
   "cell_type": "markdown",
   "id": "c92125a7",
   "metadata": {},
   "source": [
    "Comparing three or more proportions (Chi-square): 6.39, 6.41, 6.43, 6.45, 6.47"
   ]
  },
  {
   "cell_type": "markdown",
   "id": "00bbb8bf",
   "metadata": {},
   "source": [
    "**6.39 True or false, Part I.** Determine if the statements below are true or false. For each false statement, suggest an alternative wording to make it a true statement.\n",
    "(a) The chi-square distribution, just like the normal distribution, has two parameters, mean and standard deviation.**Ans:**  False. it only have one parameter which is degree of freedom. it controls it's center and spreed.   \n",
    "\n",
    "(b) The chi-square distribution is always right skewed, regardless of the value of the degrees of freedom parameter. **Ans:** False. when the degree of freedom is large enough, it tends to be sysmetric and approach normal distribution. small degree of freedom tends to be more skewed.  <span style=\"color:red\"> True</span>   \n",
    "\n",
    "(c) The chi-square statistic is always positive. **Ans:** True.  \n",
    "\n",
    "(d) As the degrees of freedom increases, the shape of the chi-square distribution becomes more skewed. \n",
    "**Ans:** False. when the degree of freedom is large enough, it tends to be sysmetric and approach normal distribution. "
   ]
  },
  {
   "cell_type": "markdown",
   "id": "cac3d2b7",
   "metadata": {},
   "source": [
    "**6.41 Open source textbook.** A professor using an open source introductory statistics book predicts that 60% of the students will purchase a hard copy of the book, 25% will print it out from the web, and 15% will read it online. At the end of the semester he asks his students to complete a survey where they indicate what format of the book they used. Of the 126 students, 71 said they bought a hard copy of the book, 30 said they printed it out from the web, and 25 said they read it online.\n",
    "(a) State the hypotheses for testing if the professor’s predictions were inaccurate.\n",
    "**Ans:**  we can use chi-square goodness of fit test which test if the population distribution follow an expected distribution or not. \n",
    "null hypothesis: the distribution of the format of the book students used is the same as what professor predicted.\n",
    "alter hypothesis: the distribution of the format of the book students used is different than what professor predicted.  \n",
    "\n",
    "(b) How many students did the professor expect to buy the book, print the book, and read the book exclusively online?  \n",
    "**Ans:**   \n",
    "[75.6, 31.5, 18.9]\n",
    "\n",
    "(c) This is an appropriate setting for a chi-square test. List the conditions required for a test and verify they are satisfied.  \n",
    "**Ans:** \n",
    "independent: random sample? not mentioned, less than 10% population is true.  \n",
    "sample size, each category has at least 5 instances.   \n",
    "each students only appear in one category\n",
    "\n",
    "(d) Calculate the chi-squared statistic, the degrees of freedom associated with it, and the p-value.  \n",
    "**Ans:**   \n",
    "[2.3201058201058204, 2, 0.3134695947509786]  \n",
    "\n",
    "(e) Based on the p-value calculated in part (d), what is the conclusion of the hypothesis test? Interpret your conclusion in this context.  \n",
    "**Ans:**   \n",
    "Failed to reject null hypothesis. The distribution of the format of the book students used is as the professor's prediction. "
   ]
  },
  {
   "cell_type": "code",
   "execution_count": 86,
   "id": "88c1b431",
   "metadata": {},
   "outputs": [
    {
     "name": "stdout",
     "output_type": "stream",
     "text": [
      "[2.3201058201058204, 2, 0.3134695947509786]\n"
     ]
    }
   ],
   "source": [
    "p = [0.6,0.25,0.15]\n",
    "expected = [p * 126 for p in p]\n",
    "observed = [71,30,25]\n",
    "diff = [o - p for o,p in zip(observed,expected)]\n",
    "z_square = [np.power(d,2)/e for d,e in zip(diff, expected)]\n",
    "chi_score = sum(z_square)\n",
    "k = 3\n",
    "df = k - 1\n",
    "p_value = 1 - scipy.stats.chi2.cdf(chi_score,df)\n",
    "print([chi_score, df, p_value])"
   ]
  },
  {
   "cell_type": "code",
   "execution_count": 85,
   "id": "dc3d9543",
   "metadata": {},
   "outputs": [
    {
     "data": {
      "text/plain": [
       "[75.6, 31.5, 18.9]"
      ]
     },
     "execution_count": 85,
     "metadata": {},
     "output_type": "execute_result"
    }
   ],
   "source": [
    "expected"
   ]
  },
  {
   "cell_type": "markdown",
   "id": "fbb8f31a",
   "metadata": {},
   "source": [
    "**6.43 Rock-paper-scissors.** Rock-paper-scissors is a hand game played by two or more people where players choose to sign either rock, paper, or scissors with their hands. For your statistics class project, you want to evaluate whether players choose between these three options randomly, or if certain options are favored above others. You ask two friends to play rock-paper-scissors and count the times each option is played. The following table summarizes the data:   \n",
    "\n",
    "|Rock|Paper|Scissors|\n",
    "|---|---|---|\n",
    "|43|21| 35|\n",
    "\n",
    "Use these data to evaluate whether players choose between these three options randomly, or if certain options are favored above others. Make sure to clearly outline each step of your analysis, and interpret your results in context of the data and the research question.  \n",
    "**Ans:**   \n",
    "p_value = 0.023 < 0.05, therefore, we reject null hypothese that players choose between these three options randomly and in favor of the claims that certain options are favored above others."
   ]
  },
  {
   "cell_type": "code",
   "execution_count": 87,
   "id": "3925e0eb",
   "metadata": {},
   "outputs": [
    {
     "name": "stdout",
     "output_type": "stream",
     "text": [
      "0.023340254280134753\n"
     ]
    }
   ],
   "source": [
    "p = [1/3,1/3,1/3]\n",
    "observed = [43,21,35]\n",
    "n = sum(observed)\n",
    "expected = [p * n for p in p]\n",
    "diff = [o - e for o,e in zip(observed, expected)]\n",
    "z_square = [np.power(d,2)/e for d,e in zip(diff,expected)]\n",
    "chi_score = sum(z_square)\n",
    "k = 3\n",
    "df = k - 1\n",
    "p_value = 1 - scipy.stats.chi2.cdf(chi_score, df)\n",
    "print(p_value)"
   ]
  },
  {
   "cell_type": "markdown",
   "id": "e2ba568b",
   "metadata": {},
   "source": [
    "**6.45 Quitters.** Does being part of a support group affect the ability of people to quit smoking? A county health department enrolled 300 smokers in a randomized experiment. 150 participants were assigned to a group that used a nicotine patch and met weekly with a support group; the other 150 received the patch and did not meet with a support group. At the end of the study, 40 of the participants in the patch plus support group had quit smoking while only 30 smokers had quit in the other group.  \n",
    "\n",
    "(a) Create a two-way table presenting the results of this study.  \n",
    "| |with support group|without support group|total|\n",
    "|---|---|---|---|\n",
    "|quit smoking|40|30|70\n",
    "|not quit smoking|110|120|230|\n",
    "|total|150|150|300|\n",
    "\n",
    "(b) Answer each of the following questions under the null hypothesis that being part of a support group does not affect the ability of people to quit smoking, and indicate whether the expected values are higher or lower than the observed values.  \n",
    "i. How many subjects in the “patch + support” group would you expect to quit?  150* (70/300) = 35  \n",
    "ii. How many subjects in the “patch only” group would you expect to not quit?  150 * (230/300) = 115"
   ]
  },
  {
   "cell_type": "code",
   "execution_count": 88,
   "id": "4cc823b2",
   "metadata": {},
   "outputs": [
    {
     "data": {
      "text/plain": [
       "35.0"
      ]
     },
     "execution_count": 88,
     "metadata": {},
     "output_type": "execute_result"
    }
   ],
   "source": [
    "150*70/300"
   ]
  },
  {
   "cell_type": "code",
   "execution_count": 89,
   "id": "b1058c8e",
   "metadata": {},
   "outputs": [
    {
     "data": {
      "text/plain": [
       "115.0"
      ]
     },
     "execution_count": 89,
     "metadata": {},
     "output_type": "execute_result"
    }
   ],
   "source": [
    "150*230/300"
   ]
  },
  {
   "cell_type": "markdown",
   "id": "56ad0478",
   "metadata": {},
   "source": [
    "**6.47 Offshore drilling, Part III.** The table below summarizes a data set we first encountered in Exercise 6.29 that examines the responses of a random sample of college graduates and non- graduates on the topic of oil drilling. Complete a chi-square test for these data to check whether there is a statistically significant difference in responses from college graduates and non-graduates.  \n",
    "| |graduate|not graduate|total|\n",
    "|---|---|---|---|\n",
    "|support|154|132|286\n",
    "|oppose|180|126|306|\n",
    "|do not know|104|131|235|\n",
    "|total|438|389|827|\n",
    "\n",
    "**Ans:** p-value is less than 0.05, therefore, the responses from college graduates and non-graduates is different."
   ]
  },
  {
   "cell_type": "code",
   "execution_count": 121,
   "id": "6efdae30",
   "metadata": {},
   "outputs": [
    {
     "name": "stdout",
     "output_type": "stream",
     "text": [
      "0.003245751677744324\n"
     ]
    }
   ],
   "source": [
    "p = [286/827, 306/827, 235/827]\n",
    "expected = [p * 438 for p in p] + [p * 389 for p in p]\n",
    "observed= [154,180,104,132,126,131]\n",
    "diff = [o - e for o,e in zip(observed,expected)]\n",
    "z_square = [np.power(d,2)/e for d,e in zip(diff,expected)]\n",
    "chi_score = sum(z_square)\n",
    "n_row = 3\n",
    "n_col = 2\n",
    "df = (n_row-1)*(n_col-1)\n",
    "p_value = 1 - scipy.stats.chi2.cdf(chi_score,df)\n",
    "print(p_value)"
   ]
  },
  {
   "cell_type": "code",
   "execution_count": 122,
   "id": "56156852",
   "metadata": {},
   "outputs": [
    {
     "data": {
      "text/plain": [
       "[151.4727932285369,\n",
       " 162.06529625151148,\n",
       " 124.46191051995163,\n",
       " 134.5272067714631,\n",
       " 143.93470374848852,\n",
       " 110.53808948004837]"
      ]
     },
     "execution_count": 122,
     "metadata": {},
     "output_type": "execute_result"
    }
   ],
   "source": [
    "expected"
   ]
  },
  {
   "cell_type": "code",
   "execution_count": null,
   "id": "e45e6980",
   "metadata": {},
   "outputs": [],
   "source": []
  }
 ],
 "metadata": {
  "kernelspec": {
   "display_name": "Python (realestate_env)",
   "language": "python",
   "name": "realestate_env"
  },
  "language_info": {
   "codemirror_mode": {
    "name": "ipython",
    "version": 3
   },
   "file_extension": ".py",
   "mimetype": "text/x-python",
   "name": "python",
   "nbconvert_exporter": "python",
   "pygments_lexer": "ipython3",
   "version": "3.11.4"
  }
 },
 "nbformat": 4,
 "nbformat_minor": 5
}
