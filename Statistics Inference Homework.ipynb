{
 "cells": [
  {
   "cell_type": "markdown",
   "id": "eb2cbb32",
   "metadata": {},
   "source": [
    "__5.1 Identify the parameter, Part I. For each of the following situations, state whether the parameter of interest is a mean or a proportion. It may be helpful to examine whether individual responses are numerical or categorical.__  \n",
    "\n",
    "(a) In a survey, one hundred college students are asked how many hours per week they spend on the Internet.  \n",
    "__Ans:__ mean, individual responses are numerical. \n",
    "\n",
    "(b) In a survey, one hundred college students are asked: “What percentage of the time you spend on the\n",
    "Internet is part of your course work?”  \n",
    "__Ans:__ proportion, individual responses are numerical.  <span style=\"color:red\">mean, the individual answer is a percentage, we can average over those percentage</span>\n",
    "\n",
    "(c) In a survey,one hundred college students are asked whether or not they cited information from Wikipedia\n",
    "in their papers.  \n",
    "__Ans:__ proportion, individual responses are categorical.  \n",
    "\n",
    "(d) In a survey, one hundred college students are asked what percentage of their total weekly spending is\n",
    "on alcoholic beverages.  \n",
    "__Ans:__ proportion, individual responses are numerical.  <span style=\"color:red\">mean, the individual answer is a percentage, we can average over those percentage</span>\n",
    "\n",
    "(e) In a sample of one hundred recent college graduates, it is found that 85 percent expect to get a job\n",
    "within one year of their graduation date.  \n",
    "__Ans:__ proportion, individual responses are categorical."
   ]
  },
  {
   "cell_type": "markdown",
   "id": "c9aac61d",
   "metadata": {},
   "source": [
    "__5.2 Identify the parameter, Part II. For each of the following situations, state whether the parameter of interest is a mean or a proportion.__  \n",
    "\n",
    "(a) A poll shows that 64% of Americans personally worry a great deal about federal spending and the budget deficit.   \n",
    "__Ans:__ proportion, categorical.  \n",
    "\n",
    "(b) A survey reports that local TV news has shown a 17% increase in revenue within a two year period while newspaper revenues decreased by 6.4% during this time period.  \n",
    "__Ans:__ proportion, numerical.  \n",
    "\n",
    "(c) In a survey, high school and college students are asked whether or not they use geolocation services on their smart phones.  \n",
    "__Ans:__ proportion, categorical.  \n",
    "\n",
    "(d) In a survey, smart phone users are asked whether or not they use a web-based taxi service.  \n",
    "__Ans:__ proportion, categorical.  \n",
    "\n",
    "(e) In a survey, smart phone users are asked how many times they used a web-based taxi service over the\n",
    "last year.  \n",
    "__Ans__: mean, numerical.  "
   ]
  },
  {
   "cell_type": "markdown",
   "id": "abe1f7ca",
   "metadata": {},
   "source": [
    "__5.3 Quality control. As part of a quality control process for computer chips, an engineer at a factory randomly samples 212 chips during a week of production to test the current rate of chips with severe defects. She finds that 27 of the chips are defective.__  \n",
    "\n",
    "(a) What population is under consideration in the data set?  \n",
    "__Ans:__ computer chips in production in the factory.  \n",
    "\n",
    "(b) What parameter is being estimated?  \n",
    "__Ans:__ rate of chips with sever defects. \n",
    "\n",
    "(c) What is the point estimate for the parameter?  \n",
    "__Ans:__ $\\hat{p} = \\frac{27}{212} \\approx 0.13$. \n",
    "\n",
    "(d) What is the name of the statistic we use to measure the uncertainty of the point estimate?  \n",
    "__Ans:__ standard error  \n",
    "\n",
    "(e) Compute the value from part (d) for this context.  \n",
    "__Ans:__ $SE_{\\hat{p}} = \\frac{\\sigma_\\hat{p}}{\\sqrt{n}} = \\sqrt{\\frac{\\hat{p}(1-\\hat{p})}{n}}  = \\sqrt{\\frac{0.13(1-0.13)}{212}} \\approx 0.023$   \n",
    "\n",
    "(f) The historical rate of defects is 10%. Should the engineer be surprised by the observed rate of defects\n",
    "during the current week?  \n",
    "__Ans:__ No. 95% CI for population mean is $0.13 \\pm 1.96 \\times 0.023$, [0.0849, 0.1751]. Historical rate is within 95% CI, so engineer should NOT be surprised.  \n",
    "\n",
    "(g) Suppose the true population value was found to be 10%. If we use this proportion to recompute the\n",
    "value in part (e) using p = 0.1 instead of pˆ, does the resulting value change much?  \n",
    "__Ans:__ No. $SE_p = \\sqrt{\\frac{0.1(1-0.1)}{212}} \\approx 0.021$. "
   ]
  },
  {
   "cell_type": "markdown",
   "id": "17bec2b3",
   "metadata": {},
   "source": [
    "__5.4 Unexpected expense. In a random sample 765 adults in the United States, 322 say they could not\n",
    "cover a $400 unexpected expense without borrowing money or going into debt.__. \n",
    "\n",
    "(a) What population is under consideration in the data set?  \n",
    "__Ans:__ America adults  \n",
    "\n",
    "(b) What parameter is being estimated?  \n",
    "__Ans:__ proportion of America adults who could not cover a $400 unexpected expense witout borrowing money or going into debt.  \n",
    "\n",
    "(c) What is the point estimate for the parameter?  \n",
    "__Ans:__ $\\hat{p} = \\frac{322}{765} \\approx 0.42$. \n",
    "\n",
    "(d) What is the name of the statistic we use to measure the uncertainty of the point estimate?  \n",
    "__Ans:__  standard error. \n",
    "\n",
    "(e) Compute the value from part (d) for this context.  \n",
    "__Ans:__ $SE_{\\hat{p}} = \\frac{\\sigma_\\hat{p}}{\\sqrt{n}} = \\sqrt{\\frac{\\hat{p}(1-\\hat{p})}{n}}  = \\sqrt{\\frac{0.42(1-0.42)}{765}} \\approx 0.0178$     \n",
    "\n",
    "(f) A cable news pundit thinks the value is actually 50%. Should she be surprised by the data?  \n",
    "__Ans:__ 95% CI for population mean is $0.42 \\pm 1.96 \\times 0.0178$, [0.3851,0.4549], 0.5 is outside the 95% CI, therefore, she should be surprised.    \n",
    "\n",
    "(g) Suppose the true population value was found to be 40%. If we use this proportion to recompute the value in part (e) using p = 0.4 instead of pˆ, does the resulting value change much?  \n",
    "__Ans:__ $SE_p = \\frac{\\sigma_p}{\\sqrt{n}} = \\sqrt{\\frac{p(1-p)}{n}}  = \\sqrt{\\frac{0.4(1-0.4)}{765}} \\approx 0.0177$, therefore, the resulting value does NOT change much."
   ]
  },
  {
   "cell_type": "markdown",
   "id": "2d295aab",
   "metadata": {},
   "source": [
    "__5.5 Repeated water samples. A nonprofit wants to understand the fraction of households that have elevated levels of lead in their drinking water. They expect at least 5% of homes will have elevated levels of lead, but not more than about 30%. They randomly sample 800 homes and work with the owners to retrieve water samples, and they compute the fraction of these homes with elevated lead levels. They repeat this 1,000 times and build a distribution of sample proportions.__. \n",
    "\n",
    "(a) What is this distribution called?  \n",
    "__Ans:__ sampling distribution of sample proportion.  \n",
    "\n",
    "(b) Would you expect the shape of this distribution to be symmetric, right skewed, or left skewed? Explain\n",
    "your reasoning.  \n",
    "__Ans:__ Population distribution would be right skewed. The sampling distribution would be symmetric given large sample size.  \n",
    "$np = 0.05 * 800 = 40 \\geq 10$ and $n(1-p) = 800 \\times 0.2 = 760 \\geq 10$. \n",
    "$np = 0.3 * 800 = 240 \\geq 10$ and $n(1-p) = 800 \\times 0.7 = 560 \\geq 10$.   \n",
    "Given $np\\geq10$ and $n(1-p)\\geq10$, it indicates we have large enough sample size so the CLT would be valid in this case, therefore, guarded the sampling distribution of sample mean to closely follow a normal shape.  \n",
    "\n",
    "(c) If the proportions are distributed around 8%, what is the variability of the distribution?  \n",
    "__Ans:__ $SE_p = \\frac{\\sigma_p}{\\sqrt{n}} = \\sqrt{\\frac{p(1-p)}{n}}  = \\sqrt{\\frac{0.08(1-0.08)}{800}} \\approx 0.0096$  \n",
    "\n",
    "(d) What is the formal name of the value you computed in (c)?  \n",
    "__Ans:__ standard error of sampling distribution of sample proportion of size 800.  \n",
    "\n",
    "(e) Suppose the researchers’ budget is reduced, and they are only able to collect 250 observations per sample,\n",
    "but they can still collect 1,000 samples. They build a new distribution of sample proportions. How will the variability of this new distribution compare to the variability of the distribution when each sample contained 800 observations?  \n",
    "__Ans:__ The new distribution would have larger variability as the sample size decrease.   \n",
    "$New SE_p = \\frac{\\sigma_p}{\\sqrt{n}} = \\sqrt{\\frac{p(1-p)}{n_{new}}}  = \\sqrt{\\frac{0.08(1-0.08)}{250}} \\approx 0.0172$  \n"
   ]
  },
  {
   "cell_type": "markdown",
   "id": "32a6e543",
   "metadata": {},
   "source": [
    "__5.6 Repeated student samples. Of all freshman at a large college, 16% made the dean’s list in the current year. As part of a class project, students randomly sample 40 students and check if those students made the list. They repeat this 1,000 times and build a distribution of sample proportions.__\n",
    "\n",
    "(a) What is this distribution called?  \n",
    "__Ans:__ Sampling distribution of percentage of students made the dean's list.  \n",
    "\n",
    "(b) Would you expect the shape of this distribution to be symmetric, right skewed, or left skewed? Explain\n",
    "your reasoning.  \n",
    "__Ans:__ the sampling distribution would be right skewed.   \n",
    "$np = 0.16 * 40 = 6.4 \\le 10$. It indicate our sample size is not large enough, therefore, the conditions of CLT were not met.  \n",
    "\n",
    "(c) Calculate the variability of this distribution.  \n",
    "__Ans:__ $SE_{\\hat{p}} = \\frac{\\sigma_\\hat{p}}{\\sqrt{n}} = \\sqrt{\\frac{\\hat{p}(1-\\hat{p})}{n}}  = \\sqrt{\\frac{0.16(1-0.16)}{40}} \\approx 0.0580$    \n",
    "\n",
    "(d) What is the formal name of the value you computed in (c)?  \n",
    "__Ans:__ standard error of the sampling distribution of sample proportion of samples of size 40.  \n",
    "\n",
    "(e) Suppose the students decide to sample again, this time collecting 90 students per sample, and they again\n",
    "collect 1,000 samples. They build a new distribution of sample proportions. How will the variability of this new distribution compare to the variability of the distribution when each sample contained 40 observations?  \n",
    "__Ans:__ The new distribution would have smaller variability and the shape would be close to a normal distribution, meaning symmetric.   "
   ]
  },
  {
   "cell_type": "code",
   "execution_count": 29,
   "id": "5b42fbb8",
   "metadata": {},
   "outputs": [
    {
     "data": {
      "text/plain": [
       "75.6"
      ]
     },
     "execution_count": 29,
     "metadata": {},
     "output_type": "execute_result"
    }
   ],
   "source": [
    "(1-0.16)*90"
   ]
  },
  {
   "cell_type": "code",
   "execution_count": 30,
   "id": "09471db2",
   "metadata": {},
   "outputs": [
    {
     "data": {
      "text/plain": [
       "14.4"
      ]
     },
     "execution_count": 30,
     "metadata": {},
     "output_type": "execute_result"
    }
   ],
   "source": [
    "90*0.16"
   ]
  },
  {
   "cell_type": "code",
   "execution_count": 31,
   "id": "cbca090b",
   "metadata": {},
   "outputs": [
    {
     "data": {
      "text/plain": [
       "0.057965506984757754"
      ]
     },
     "execution_count": 31,
     "metadata": {},
     "output_type": "execute_result"
    }
   ],
   "source": [
    "np.sqrt(0.16*(1-0.16)/40)"
   ]
  },
  {
   "cell_type": "code",
   "execution_count": 26,
   "id": "96761b6f",
   "metadata": {},
   "outputs": [
    {
     "data": {
      "text/plain": [
       "0.0192"
      ]
     },
     "execution_count": 26,
     "metadata": {},
     "output_type": "execute_result"
    }
   ],
   "source": [
    "0.0096*2"
   ]
  },
  {
   "cell_type": "markdown",
   "id": "951fd04d",
   "metadata": {},
   "source": [
    "$SE_p_{new}$"
   ]
  },
  {
   "cell_type": "code",
   "execution_count": null,
   "id": "ad844022",
   "metadata": {},
   "outputs": [],
   "source": []
  }
 ],
 "metadata": {
  "kernelspec": {
   "display_name": "Python (realestate_env)",
   "language": "python",
   "name": "realestate_env"
  },
  "language_info": {
   "codemirror_mode": {
    "name": "ipython",
    "version": 3
   },
   "file_extension": ".py",
   "mimetype": "text/x-python",
   "name": "python",
   "nbconvert_exporter": "python",
   "pygments_lexer": "ipython3",
   "version": "3.11.4"
  }
 },
 "nbformat": 4,
 "nbformat_minor": 5
}
