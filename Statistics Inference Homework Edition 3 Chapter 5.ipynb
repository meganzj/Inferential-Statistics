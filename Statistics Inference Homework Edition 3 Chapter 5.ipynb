{
 "cells": [
  {
   "cell_type": "markdown",
   "id": "9b86c6a4",
   "metadata": {},
   "source": [
    "t-inference: 5.1, 5.3, 5.5, 5.13, 5.17, 5.19, 5.21, 5.23, 5.27, 5.31, 5.35, 5.37\n"
   ]
  },
  {
   "cell_type": "markdown",
   "id": "d2156ab5",
   "metadata": {},
   "source": [
    "**5.1 Identify the critical t.** An independent random sample is selected from an <u>approximately normal population</u> with unknown standard deviation. Find the degrees of freedom and the critical t-value ($t^*$) for the given sample size and confidence level.  \n",
    " (a) n=6,CL=90%   \n",
    " (b) n=21,CL=98%   \n",
    " (c) n=29,CL=95%   \n",
    " (d) n=12,CL=99%"
   ]
  },
  {
   "cell_type": "code",
   "execution_count": 3,
   "id": "4e37705c",
   "metadata": {},
   "outputs": [
    {
     "name": "stdout",
     "output_type": "stream",
     "text": [
      "2.015048372669157\n",
      "2.527977002740546\n",
      "2.048407141795244\n",
      "3.1058065132211006\n"
     ]
    }
   ],
   "source": [
    "import scipy\n",
    "print(scipy.stats.t.ppf(0.95, 5))\n",
    "print(scipy.stats.t.ppf(0.99, 20))\n",
    "print(scipy.stats.t.ppf(0.975, 28))\n",
    "print(scipy.stats.t.ppf(0.995, 11))"
   ]
  },
  {
   "cell_type": "markdown",
   "id": "632b4da2",
   "metadata": {},
   "source": [
    "**5.3 Find the p-value, Part I.** An independent random sample is selected from an <u>approximately normal population</u> with an unknown standard deviation. Find the p-value for the given set of hypotheses and T test statistic. Also determine if the null hypothesis would be rejected at α = 0.05.  \n",
    "(a) HA :μ>μ0,n=11,T =1.91, reject null hypothesis.  \n",
    "(b) HA :μ<μ0,n=17,T =−3.45, reject null hypothesis.    \n",
    "(c) HA :μ̸=μ0,n=7,T =0.83, fail to reject null hypothesis.    \n",
    "(d) HA :μ>μ0,n=28,T =2.13, reject null hypothesis.    "
   ]
  },
  {
   "cell_type": "code",
   "execution_count": 9,
   "id": "bd683bdb",
   "metadata": {},
   "outputs": [
    {
     "name": "stdout",
     "output_type": "stream",
     "text": [
      "0.04260243832257815\n",
      "0.0016467857018984567\n",
      "0.4383084015659864\n",
      "0.021217692960949996\n"
     ]
    }
   ],
   "source": [
    "import scipy\n",
    "print(1 - scipy.stats.t.cdf(1.91,10))\n",
    "print(scipy.stats.t.cdf(-3.45,16))\n",
    "print(2 * (1 - scipy.stats.t.cdf(0.83,6)))\n",
    "print(1 - scipy.stats.t.cdf(2.13,27))"
   ]
  },
  {
   "cell_type": "markdown",
   "id": "759e5334",
   "metadata": {},
   "source": [
    "**5.4 Find the p-value, Part II.** An independent random sample is selected from <u>an approximately normal population</u> with an unknown standard deviation. Find the p-value for the given set of hypotheses and T test statistic. Also determine if the null hypothesis would be rejected at α = 0.01.  \n",
    "(a) HA :μ>0.5,n=26,T =2.485, reject null hypothesis.  \n",
    "(b) HA :μ<3,n=18,T =0.5, fail to reject null hypothesis.    \n"
   ]
  },
  {
   "cell_type": "code",
   "execution_count": 10,
   "id": "0cc6fb35",
   "metadata": {},
   "outputs": [
    {
     "name": "stdout",
     "output_type": "stream",
     "text": [
      "0.010002400548908885\n",
      "0.6882573967171443\n"
     ]
    }
   ],
   "source": [
    "import scipy\n",
    "print(1 - scipy.stats.t.cdf(2.485,25))\n",
    "print(scipy.stats.t.cdf(0.5,17))"
   ]
  },
  {
   "cell_type": "markdown",
   "id": "a545f955",
   "metadata": {},
   "source": [
    "**5.5 Working backwards, Part I.** A 95% confidence interval for a population mean, μ, is given as (18.985, 21.015). This confidence interval is based on a simple random sample of 36 observations. Calculate the sample mean and standard deviation. Assume that all conditions necessary for inference are satisfied. Use the t-distribution in any calculations."
   ]
  },
  {
   "cell_type": "markdown",
   "id": "5b5b3f46",
   "metadata": {},
   "source": [
    "**Ans:** we know lower bound = 18.985, upper bound = 21.015, n= 36, $t^* = 2.03$  \n",
    "$lower bound = \\bar{x} - t^* * \\frac{s}{\\sqrt{n}}$,  \n",
    "$upper bound = \\bar{x} + t^* * \\frac{s}{\\sqrt{n}}$    \n",
    "Hence,  \n",
    "$\\bar{x} = \\frac{lower bound + upper bound}{2}$    \n",
    "\n",
    "$s = lower bound - \\bar{x} + \\frac{t^*}{\\sqrt{n}}$.   \n",
    "plug the known into the formula,\n"
   ]
  },
  {
   "cell_type": "code",
   "execution_count": 16,
   "id": "b594e9cf",
   "metadata": {},
   "outputs": [
    {
     "data": {
      "text/plain": [
       "2.0301079282503425"
      ]
     },
     "execution_count": 16,
     "metadata": {},
     "output_type": "execute_result"
    }
   ],
   "source": [
    "import scipy\n",
    "t_critical = scipy.stats.t.ppf(0.975, 35)\n",
    "t_critical"
   ]
  },
  {
   "cell_type": "code",
   "execution_count": 17,
   "id": "b73c5a70",
   "metadata": {},
   "outputs": [
    {
     "name": "stdout",
     "output_type": "stream",
     "text": [
      "[20.0, -0.6766486786249435]\n"
     ]
    }
   ],
   "source": [
    "x_bar = (18.985+21.015)/2\n",
    "s = 18.985-x_bar + t_critical/6\n",
    "print([x_bar,s])"
   ]
  },
  {
   "cell_type": "markdown",
   "id": "fbd561da",
   "metadata": {},
   "source": [
    "**5.13 Car insurance savings.** A market researcher wants to evaluate car insurance savings at a competing company. Based on past studies he is assuming that the standard deviation of savings is $100$. He wants to collect data such that he can get a margin of error of no more than $10 at a 95% confidence level. How large of a sample should he collect?"
   ]
  },
  {
   "cell_type": "markdown",
   "id": "f94d1bf2",
   "metadata": {},
   "source": [
    "**Ans:** $Margin of Error = 1.96 * 100/\\sqrt{n} = 10$  \n",
    "hence,  \n",
    "n = 385"
   ]
  },
  {
   "cell_type": "code",
   "execution_count": 19,
   "id": "33a78cfb",
   "metadata": {},
   "outputs": [
    {
     "data": {
      "text/plain": [
       "384.1600000000001"
      ]
     },
     "execution_count": 19,
     "metadata": {},
     "output_type": "execute_result"
    }
   ],
   "source": [
    "import numpy as np\n",
    "np.power(1.96*100/10,2)"
   ]
  },
  {
   "cell_type": "markdown",
   "id": "6b6b89ea",
   "metadata": {},
   "source": [
    "**5.17 Paired or not, Part I?** In each of the following scenarios, determine if the data are paired.  \n",
    "(a) Compare pre- (beginning of semester) and post-test (end of semester) scores of students. **paired**  \n",
    "(b) Assess gender-related salary gap by comparing salaries of randomly sampled men and women. **not paired**.   \n",
    "(c) Compare artery thicknesses at the beginning of a study and after 2 years of taking Vitamin E for the same group of patients. **paired**.   \n",
    "(d) Assess effectiveness of a diet regimen by comparing the before and after weights of subjects. **paired**  "
   ]
  },
  {
   "cell_type": "markdown",
   "id": "8ac4bd70",
   "metadata": {},
   "source": [
    "**5.19 Global warming, Part I.** Is there strong evidence of global warming? Let’s consider a small scale example, comparing how temperatures have changed in the US from 1968 to 2008. The daily high temperature reading on January 1 was collected in 1968 and 2008 for 51 randomly selected locations in the continental US. Then the difference between the two readings (temperature in 2008 - temperature in 1968) was calculated for each of the 51 different locations. The average of these 51 values was 1.1 degrees with a standard deviation of 4.9 degrees. We are interested in determining whether these data provide strong evidence of temperature warming in the continental US.  \n",
    "(a) Is there a relationship between the observations collected in 1968 and 2008? Or are the observations in the two groups independent? Explain.  \n",
    "**Ans:** independent.  temperatures in one year do not impact temperatures in another year.  \n",
    "\n",
    "(b) Write hypotheses for this research in symbols and in words.  \n",
    "**Ans:**  \n",
    "$$H_0: \\mu_{2008} - \\mu_{1968} = 0$$.  no temperature warming in the continential US  \n",
    "$$H_A: \\mu_{2008} - \\mu_{1968} \\gt 0$$. temperature is warmer in 2008 compared to 1968 in the continential US  \n",
    "\n",
    "(c) Check the conditions required to complete this test.  \n",
    "**Ans:**  \n",
    "(d) Calculate the test statistic and find the p-value.  \n",
    "**Ans:**  \n",
    "(e) What do you conclude? Interpret your conclusion in context.  \n",
    "**Ans:**  \n",
    "(f) What type of error might we have made? Explain in context what the error means.  \n",
    "**Ans:**  \n",
    "(g) Based on the results of this hypothesis test, would you expect a confidence interval for the average difference between the temperature measurements from 1968 and 2008 to include 0? Explain your reasoning.  \n",
    "**Ans:**  "
   ]
  },
  {
   "cell_type": "markdown",
   "id": "4733aed4",
   "metadata": {},
   "source": [
    "Power: 5.39"
   ]
  },
  {
   "cell_type": "markdown",
   "id": "69c47dfa",
   "metadata": {},
   "source": [
    "Comparing three or more means (ANOVA): 5.41, 5.43, 5.45, 5.47, 5.49, 5.51"
   ]
  },
  {
   "cell_type": "markdown",
   "id": "15e04d22",
   "metadata": {},
   "source": [
    "Simulation based inference for means"
   ]
  },
  {
   "cell_type": "code",
   "execution_count": null,
   "id": "cca1cb43",
   "metadata": {},
   "outputs": [],
   "source": []
  }
 ],
 "metadata": {
  "kernelspec": {
   "display_name": "Python (realestate_env)",
   "language": "python",
   "name": "realestate_env"
  },
  "language_info": {
   "codemirror_mode": {
    "name": "ipython",
    "version": 3
   },
   "file_extension": ".py",
   "mimetype": "text/x-python",
   "name": "python",
   "nbconvert_exporter": "python",
   "pygments_lexer": "ipython3",
   "version": "3.11.4"
  }
 },
 "nbformat": 4,
 "nbformat_minor": 5
}
